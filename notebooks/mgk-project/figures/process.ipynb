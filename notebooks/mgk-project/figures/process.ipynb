{
 "cells": [
  {
   "cell_type": "code",
   "execution_count": 1,
   "id": "17829915",
   "metadata": {},
   "outputs": [],
   "source": [
    "import pandas as pd\n",
    "from collections import OrderedDict\n",
    "import os\n",
    "import json"
   ]
  },
  {
   "cell_type": "code",
   "execution_count": 2,
   "id": "40d64032",
   "metadata": {},
   "outputs": [],
   "source": [
    "df = pd.DataFrame({'dataset': [], 'n_subsets': [], 'auc_pred': [], 'auc_att': [], 'seed': []})\n",
    "for name in ['logic7', 'logic8', 'logic10', 'benzene', 'liver', 'ames']:\n",
    "    metric = 'auc'\n",
    "    path = '../%s' % name\n",
    "    for dir_name in os.listdir(path):\n",
    "        path_ = '%s/%s' % (path, dir_name)\n",
    "        if os.path.isdir(path_):\n",
    "            nsplits = dir_name.split('_')[-1]\n",
    "            for seed in range(10):\n",
    "                df.loc[len(df)] = name, int(nsplits), \\\n",
    "                    float(open('%s/%d/pred-%s' % (path_, seed, metric)).read()), \\\n",
    "                    float(open('%s/%d/att-auc' % (path_, seed)).read().split()[2][:-2]), \\\n",
    "                    seed\n",
    "df.to_csv('../results/figure_data/hyperopt_mgk.csv', index=False)"
   ]
  },
  {
   "cell_type": "code",
   "execution_count": 3,
   "id": "fb8b11a9",
   "metadata": {},
   "outputs": [],
   "source": [
    "df_gnn_pred = pd.DataFrame({'dataset': [], 'model': [], 'auc_pred': [], 'seed': []})\n",
    "df_gnn_att = pd.DataFrame({'dataset': [], 'model': [], 'xai_tech': [], 'auc_att': [], \n",
    "                           'auc_att_full': [], 'seed': []})\n",
    "for name in ['logic7', 'logic8', 'logic10', 'benzene', 'liver', 'ames']:\n",
    "    metric = 'AUROC'\n",
    "    for model in ['mpnn', 'gcn', 'gat', 'graphnet']:\n",
    "        for seed in range(10):\n",
    "            path = f'../gnn-ref/{name}-{model}-{seed}'\n",
    "            df = pd.read_csv('%s/results.log' % path)\n",
    "            df_gnn_pred.loc[len(df_gnn_pred)] = name, model, df[metric][0], seed\n",
    "            for xai in ['Random', 'CAM', 'IG', 'GradInput', 'GradCAM-last', \n",
    "                        'GradCAM-all', 'SmoothGrad(GradInput)']:\n",
    "                df_ = df[df.Technique == xai]\n",
    "                df_gnn_att.loc[len(df_gnn_att)] = name, model, xai, df_['ATT AUROC'].iloc[0], \\\n",
    "                    float(json.loads(open('%s/%s.log' % (path, xai)).read())['att auc']), seed\n",
    "df_gnn_pred.to_csv('../results/figure_data/pred_gnn.csv', index=False)\n",
    "df_gnn_att.to_csv('../results/figure_data/att_gnn.csv', index=False)"
   ]
  }
 ],
 "metadata": {
  "kernelspec": {
   "display_name": "graph-attribution",
   "language": "python",
   "name": "graph-attribution"
  },
  "language_info": {
   "codemirror_mode": {
    "name": "ipython",
    "version": 3
   },
   "file_extension": ".py",
   "mimetype": "text/x-python",
   "name": "python",
   "nbconvert_exporter": "python",
   "pygments_lexer": "ipython3",
   "version": "3.10.8"
  }
 },
 "nbformat": 4,
 "nbformat_minor": 5
}
